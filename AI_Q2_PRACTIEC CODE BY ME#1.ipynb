{
  "nbformat": 4,
  "nbformat_minor": 0,
  "metadata": {
    "colab": {
      "name": "AI Q2 P1.ipynb",
      "provenance": [],
      "collapsed_sections": [],
      "authorship_tag": "ABX9TyNEKJTdPTyoLCVAge5mxJp7",
      "include_colab_link": true
    },
    "kernelspec": {
      "name": "python3",
      "display_name": "Python 3"
    }
  },
  "cells": [
    {
      "cell_type": "markdown",
      "metadata": {
        "id": "view-in-github",
        "colab_type": "text"
      },
      "source": [
        "<a href=\"https://colab.research.google.com/github/muhammadwasifarslan/AI-Q2-learning-resources/blob/master/AI_Q2_PRACTIEC%20CODE%20BY%20ME%231.ipynb\" target=\"_parent\"><img src=\"https://colab.research.google.com/assets/colab-badge.svg\" alt=\"Open In Colab\"/></a>"
      ]
    },
    {
      "cell_type": "code",
      "metadata": {
        "colab": {
          "base_uri": "https://localhost:8080/"
        },
        "id": "jtY-RucLVl8q",
        "outputId": "36eab382-cffe-4a1b-9dfb-1ee64ba45053"
      },
      "source": [
        "# must need to import pandas\r\n",
        "import pandas as pd\r\n",
        "obj = pd.Series([4, 7, -5, 3])\r\n",
        "print(obj)"
      ],
      "execution_count": 1,
      "outputs": [
        {
          "output_type": "stream",
          "text": [
            "0    4\n",
            "1    7\n",
            "2   -5\n",
            "3    3\n",
            "dtype: int64\n"
          ],
          "name": "stdout"
        }
      ]
    },
    {
      "cell_type": "code",
      "metadata": {
        "colab": {
          "base_uri": "https://localhost:8080/"
        },
        "id": "7Jy_7hknV6-9",
        "outputId": "ccb40e1c-bed8-4635-fb7e-7c4279782ba4"
      },
      "source": [
        "sales = pd.Series([100, 200, 100, 400])\r\n",
        "print(sales.values)\r\n",
        "print(sales.index)"
      ],
      "execution_count": 2,
      "outputs": [
        {
          "output_type": "stream",
          "text": [
            "[100 200 100 400]\n",
            "RangeIndex(start=0, stop=4, step=1)\n"
          ],
          "name": "stdout"
        }
      ]
    },
    {
      "cell_type": "code",
      "metadata": {
        "colab": {
          "base_uri": "https://localhost:8080/"
        },
        "id": "vR7VEXqGWB2b",
        "outputId": "ef66d7f1-6a0a-4d65-e0fa-4b6182942314"
      },
      "source": [
        "sales = pd.Series([100, 200, 100, 400], index = ['Jan', 'Feb', 'Mar','Apr'])\r\n",
        "print(sales)\r\n",
        "print(sales.values)\r\n",
        "print(sales.index)\r\n"
      ],
      "execution_count": 3,
      "outputs": [
        {
          "output_type": "stream",
          "text": [
            "Jan    100\n",
            "Feb    200\n",
            "Mar    100\n",
            "Apr    400\n",
            "dtype: int64\n",
            "[100 200 100 400]\n",
            "Index(['Jan', 'Feb', 'Mar', 'Apr'], dtype='object')\n"
          ],
          "name": "stdout"
        }
      ]
    },
    {
      "cell_type": "code",
      "metadata": {
        "colab": {
          "base_uri": "https://localhost:8080/"
        },
        "id": "GGpaX2aLWNUT",
        "outputId": "7a4f71fe-7dad-4ced-9122-b7ff32ed1923"
      },
      "source": [
        "sales = pd.Series([100, 200, 100, 400], index = ['Jan', 'Feb', 'Mar','Apr'], name=\"4 month sales\") \r\n",
        "print(sales)"
      ],
      "execution_count": 4,
      "outputs": [
        {
          "output_type": "stream",
          "text": [
            "Jan    100\n",
            "Feb    200\n",
            "Mar    100\n",
            "Apr    400\n",
            "Name: 4 month sales, dtype: int64\n"
          ],
          "name": "stdout"
        }
      ]
    },
    {
      "cell_type": "code",
      "metadata": {
        "id": "-aBUWwv7WT_j"
      },
      "source": [
        ""
      ],
      "execution_count": null,
      "outputs": []
    }
  ]
}